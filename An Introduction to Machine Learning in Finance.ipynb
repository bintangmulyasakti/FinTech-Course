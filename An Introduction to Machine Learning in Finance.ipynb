{
 "cells": [
  {
   "cell_type": "markdown",
   "metadata": {},
   "source": [
    "# An Introduction to Machine Learning in Finance"
   ]
  },
  {
   "cell_type": "code",
   "execution_count": 1,
   "metadata": {},
   "outputs": [],
   "source": [
    "import numpy as np\n",
    "import pandas as pd"
   ]
  },
  {
   "cell_type": "markdown",
   "metadata": {},
   "source": [
    "#### 1. Load data from github url\n",
    "\n",
    "Tips: The URL for Github (Google Search: github raw url)"
   ]
  },
  {
   "cell_type": "code",
   "execution_count": 2,
   "metadata": {},
   "outputs": [],
   "source": [
    "data_url = \"https://raw.githubusercontent.com/lttoby/FinTech-Course/master/sample_2.csv\"\n",
    "sample_data = pd.read_csv(data_url)"
   ]
  },
  {
   "cell_type": "markdown",
   "metadata": {},
   "source": [
    "#### 2. Review (Play) the dataset\n",
    "\n",
    "Tips: Usage for Pandas (Google Search: 10 minutes to pandas)\n",
    "\n",
    "##### Tips For columns in the dataset:\n",
    "\n",
    "PE: price-to-earnings ratio\n",
    "PB: price-to-book ratio\n",
    "TTM: trailing 12 months\n",
    "ROE: return on qquity\n",
    "ROA: return on asset\n",
    "turnover_rate: share turnover rate"
   ]
  },
  {
   "cell_type": "code",
   "execution_count": 3,
   "metadata": {},
   "outputs": [],
   "source": [
    "# sample_data.head()\n",
    "# sample_data.tail()\n",
    "# sample_data.describe()\n",
    "# sample_data.shape\n",
    "# sample_data[sample_data.stock_code == \"000001.SZ\"]\n",
    "# sample_data[sample_data.trade_date == \"2017-03-20\"]\n",
    "# sample_data[sample_data.stock_code == \"000001.SZ\"].head()\n",
    "# sample_data[(sample_data.trade_date == \"2017-03-20\") & (sample_data.stock_code == \"000001.SZ\")]\n",
    "# sample_data[(sample_data.trade_date > \"2017-03-20\") & (sample_data.stock_code == \"000001.SZ\") & (sample_data.trade_date < \"2017-04-20\")]\n",
    "# sample_data[\"trade_date\"] = pd.to_datetime(sample_data[\"trade_date\"])\n",
    "# sub_data = sample_data[sample_data.stock_code == \"000001.SH\"]\n",
    "# sub_data.plot(x=\"trade_date\", y=\"open\", kind='line')\n",
    "# sample_data.groupby('stock_code').count()\n",
    "# sample_data.groupby('stock_code').mean()\n",
    "# sub_data = sample_data[[\"stock_code\", \"return_adj\"]]\n",
    "# yearly_return = sub_data.groupby('stock_code').mean() * 252\n",
    "# yearly_return.sort_values(\"return_adj\")\n",
    "# yearly_return.sort_values(\"return_adj\", ascending=False)\n",
    "# sub_data = sample_data[[\"stock_code\", \"turnover_rate\"]]\n",
    "# yearly_volumn = sub_data.groupby('stock_code').mean() * 252\n",
    "# yearly_volumn.sort_values(\"turnover_rate\", ascending=False)"
   ]
  },
  {
   "cell_type": "markdown",
   "metadata": {},
   "source": [
    "#### 3. Process the Data"
   ]
  },
  {
   "cell_type": "markdown",
   "metadata": {},
   "source": [
    "##### Get lag data (days after or days before)"
   ]
  },
  {
   "cell_type": "code",
   "execution_count": 4,
   "metadata": {},
   "outputs": [],
   "source": [
    "# sub_data = sample_data.head()\n",
    "# pd.set_option('mode.chained_assignment', None)\n",
    "# sub_data[\"turnover_rate_lag_1\"] = sub_data[\"turnover_rate\"].shift(1)\n",
    "# sub_data[\"turnover_rate_lag_1\"] = sub_data[\"turnover_rate\"].shift(-1)"
   ]
  },
  {
   "cell_type": "code",
   "execution_count": 5,
   "metadata": {},
   "outputs": [],
   "source": [
    "def generate_a_lag_variable(original_data, the_column, lag_days):\n",
    "    name_of_the_new_column = the_column + \"_lag_\" + str(lag_days)\n",
    "    original_data[name_of_the_new_column] = original_data[the_column].shift(lag_days)\n",
    "    return original_data"
   ]
  },
  {
   "cell_type": "code",
   "execution_count": 6,
   "metadata": {},
   "outputs": [],
   "source": [
    "# generate_a_lag_variable(sub_data, \"turnover_rate\", 1)\n",
    "# generate_a_lag_variable(sub_data, \"turnover_rate\", -1)\n",
    "# data_wrong = generate_a_lag_variable(sample_data, \"turnover_rate\", -1)\n",
    "# data_wrong[data_wrong.stock_code == \"000001.SZ\"].tail()\n",
    "# data_wrong[data_wrong.stock_code == \"000002.SZ\"].head()"
   ]
  },
  {
   "cell_type": "markdown",
   "metadata": {},
   "source": [
    "##### Get distinct stock codes"
   ]
  },
  {
   "cell_type": "code",
   "execution_count": 7,
   "metadata": {},
   "outputs": [],
   "source": [
    "def all_distinct_stock_codes(sample_data):\n",
    "    stock_code_array = sample_data[\"stock_code\"].values\n",
    "    stock_code_list = list(stock_code_array)\n",
    "    distinct_code = list(set(stock_code_list))\n",
    "    distinct_code.sort()\n",
    "    return distinct_code"
   ]
  },
  {
   "cell_type": "code",
   "execution_count": 8,
   "metadata": {},
   "outputs": [],
   "source": [
    "distinct_stock_code = all_distinct_stock_codes(sample_data)"
   ]
  },
  {
   "cell_type": "markdown",
   "metadata": {},
   "source": [
    "##### Generate correct lag data"
   ]
  },
  {
   "cell_type": "code",
   "execution_count": 9,
   "metadata": {},
   "outputs": [
    {
     "name": "stderr",
     "output_type": "stream",
     "text": [
      "/usr/local/lib/python3.5/dist-packages/ipykernel_launcher.py:3: SettingWithCopyWarning: \n",
      "A value is trying to be set on a copy of a slice from a DataFrame.\n",
      "Try using .loc[row_indexer,col_indexer] = value instead\n",
      "\n",
      "See the caveats in the documentation: http://pandas.pydata.org/pandas-docs/stable/indexing.html#indexing-view-versus-copy\n",
      "  This is separate from the ipykernel package so we can avoid doing imports until\n"
     ]
    }
   ],
   "source": [
    "data_total = list()\n",
    "data_input = sample_data\n",
    "\n",
    "for stock_code_i in distinct_stock_code:\n",
    "    data_i = data_input[data_input[\"stock_code\"] == stock_code_i]\n",
    "    data_i = generate_a_lag_variable(data_i, \"return_adj\", -5)\n",
    "    data_total.append(data_i)"
   ]
  },
  {
   "cell_type": "code",
   "execution_count": 10,
   "metadata": {},
   "outputs": [],
   "source": [
    "data_output = pd.concat(data_total)"
   ]
  },
  {
   "cell_type": "code",
   "execution_count": 11,
   "metadata": {},
   "outputs": [],
   "source": [
    "# data_output[data_output.stock_code == \"000001.SZ\"]\n",
    "# data_output[data_output.stock_code == \"000001.SZ\"].tail(10)\n",
    "# data_output[data_output.stock_code == \"000002.SZ\"].head(10)"
   ]
  },
  {
   "cell_type": "code",
   "execution_count": 12,
   "metadata": {},
   "outputs": [],
   "source": [
    "stock_code_i = distinct_stock_code[0]\n",
    "data_i = sample_data[sample_data.stock_code == stock_code_i]"
   ]
  },
  {
   "cell_type": "markdown",
   "metadata": {},
   "source": [
    "##### Generate cumulative return"
   ]
  },
  {
   "cell_type": "code",
   "execution_count": 78,
   "metadata": {},
   "outputs": [
    {
     "name": "stderr",
     "output_type": "stream",
     "text": [
      "/usr/local/lib/python3.5/dist-packages/ipykernel_launcher.py:11: SettingWithCopyWarning: \n",
      "A value is trying to be set on a copy of a slice from a DataFrame.\n",
      "Try using .loc[row_indexer,col_indexer] = value instead\n",
      "\n",
      "See the caveats in the documentation: http://pandas.pydata.org/pandas-docs/stable/indexing.html#indexing-view-versus-copy\n",
      "  # This is added back by InteractiveShellApp.init_path()\n"
     ]
    }
   ],
   "source": [
    "data_total = list()\n",
    "cumulative_days = 20\n",
    "col_name = \"cumulative_return_\" + str(cumulative_days)\n",
    "data_input = sample_data\n",
    "\n",
    "for stock_code_i in distinct_stock_code:\n",
    "    data_i = data_input[data_input[\"stock_code\"] == stock_code_i]\n",
    "    cumulative_return_in_10_days = 1\n",
    "    for i in range(cumulative_days):\n",
    "        cumulative_return_in_10_days = cumulative_return_in_10_days * (data_i[\"return_adj\"].shift(-(i+1)) + 1)\n",
    "    data_i[col_name] = cumulative_return_in_10_days - 1\n",
    "    data_total.append(data_i)"
   ]
  },
  {
   "cell_type": "code",
   "execution_count": 79,
   "metadata": {},
   "outputs": [],
   "source": [
    "data_with_cumulative_return = pd.concat(data_total)"
   ]
  },
  {
   "cell_type": "code",
   "execution_count": 15,
   "metadata": {},
   "outputs": [],
   "source": [
    "# (data_with_cumulative_return[\"return_adj\"][1] + 1) * (data_with_cumulative_return[\"return_adj\"][2] + 1) - 1\n",
    "# data_with_cumulative_return[data_with_cumulative_return[\"stock_code\"] == \"000001.SZ\"].tail()"
   ]
  },
  {
   "cell_type": "code",
   "execution_count": 80,
   "metadata": {},
   "outputs": [],
   "source": [
    "data_with_cumulative_return = data_with_cumulative_return.dropna()"
   ]
  },
  {
   "cell_type": "code",
   "execution_count": 81,
   "metadata": {},
   "outputs": [
    {
     "name": "stderr",
     "output_type": "stream",
     "text": [
      "/usr/local/lib/python3.5/dist-packages/ipykernel_launcher.py:11: SettingWithCopyWarning: \n",
      "A value is trying to be set on a copy of a slice from a DataFrame.\n",
      "Try using .loc[row_indexer,col_indexer] = value instead\n",
      "\n",
      "See the caveats in the documentation: http://pandas.pydata.org/pandas-docs/stable/indexing.html#indexing-view-versus-copy\n",
      "  # This is added back by InteractiveShellApp.init_path()\n"
     ]
    }
   ],
   "source": [
    "data_total = list()\n",
    "cumulative_days = 20\n",
    "col_name = \"momentum_\" + str(cumulative_days)\n",
    "data_input = data_with_cumulative_return\n",
    "\n",
    "for stock_code_i in distinct_stock_code:\n",
    "    data_i = data_input[data_input[\"stock_code\"] == stock_code_i]\n",
    "    cumulative_return_in_10_days = 1\n",
    "    for i in range(cumulative_days):\n",
    "        cumulative_return_in_10_days = cumulative_return_in_10_days * (data_i[\"return_adj\"].shift(i+1) + 1)\n",
    "    data_i[col_name] = cumulative_return_in_10_days - 1\n",
    "    data_total.append(data_i)"
   ]
  },
  {
   "cell_type": "code",
   "execution_count": 82,
   "metadata": {},
   "outputs": [],
   "source": [
    "data_with_momentum = pd.concat(data_total)"
   ]
  },
  {
   "cell_type": "code",
   "execution_count": 19,
   "metadata": {},
   "outputs": [],
   "source": [
    "# (data_with_momentum[\"return_adj\"][0] + 1) * (data_with_momentum[\"return_adj\"][1] + 1) - 1\n",
    "# data_with_momentum[data_with_momentum[\"stock_code\"] == \"000001.SZ\"].tail()"
   ]
  },
  {
   "cell_type": "code",
   "execution_count": 83,
   "metadata": {},
   "outputs": [],
   "source": [
    "data_with_momentum = data_with_momentum.dropna()"
   ]
  },
  {
   "cell_type": "markdown",
   "metadata": {},
   "source": [
    "##### Generate dummy output （or classification）\n",
    "\n",
    "Tips: dummy = 0, 1"
   ]
  },
  {
   "cell_type": "code",
   "execution_count": 90,
   "metadata": {},
   "outputs": [],
   "source": [
    "def all_distinct_stock_codes(sample_data):\n",
    "    trade_date_array = sample_data[\"trade_date\"].values\n",
    "    trade_date_list = list(trade_date_array)\n",
    "    distinct_trade_date = list(set(trade_date_list))\n",
    "    distinct_trade_date.sort()\n",
    "    return distinct_trade_date"
   ]
  },
  {
   "cell_type": "code",
   "execution_count": 91,
   "metadata": {},
   "outputs": [],
   "source": [
    "distinct_date = all_distinct_stock_codes(sample_data)"
   ]
  },
  {
   "cell_type": "code",
   "execution_count": 95,
   "metadata": {},
   "outputs": [],
   "source": [
    "percentage = 0.4\n",
    "data_total = list()\n",
    "data_input = data_with_momentum\n",
    "cumulative_name = \"cumulative_return_20\""
   ]
  },
  {
   "cell_type": "code",
   "execution_count": 96,
   "metadata": {},
   "outputs": [],
   "source": [
    "for day_i in distinct_date:\n",
    "    data_i = data_input[data_input[\"trade_date\"] == day_i]\n",
    "    data_i = data_i.sort_values(cumulative_name)\n",
    "    top_rows_to_select = int(percentage*data_i.shape[0])\n",
    "    remaining_rows = data_i.shape[0] - int(percentage*data_i.shape[0]) * 2\n",
    "    win_loss_label_i = [-1] * top_rows_to_select + [0] * remaining_rows + [1] * top_rows_to_select\n",
    "    data_i[\"win_loss\"] = win_loss_label_i\n",
    "    data_total.append(data_i)"
   ]
  },
  {
   "cell_type": "code",
   "execution_count": 97,
   "metadata": {},
   "outputs": [],
   "source": [
    "data_with_label = pd.concat(data_total)"
   ]
  },
  {
   "cell_type": "markdown",
   "metadata": {},
   "source": [
    "#### 4. Simple Machine Learning Models"
   ]
  },
  {
   "cell_type": "markdown",
   "metadata": {},
   "source": [
    "##### Run linear regression"
   ]
  },
  {
   "cell_type": "code",
   "execution_count": 104,
   "metadata": {},
   "outputs": [
    {
     "data": {
      "text/html": [
       "<div>\n",
       "<style scoped>\n",
       "    .dataframe tbody tr th:only-of-type {\n",
       "        vertical-align: middle;\n",
       "    }\n",
       "\n",
       "    .dataframe tbody tr th {\n",
       "        vertical-align: top;\n",
       "    }\n",
       "\n",
       "    .dataframe thead th {\n",
       "        text-align: right;\n",
       "    }\n",
       "</style>\n",
       "<table border=\"1\" class=\"dataframe\">\n",
       "  <thead>\n",
       "    <tr style=\"text-align: right;\">\n",
       "      <th></th>\n",
       "      <th>trade_date</th>\n",
       "      <th>stock_code</th>\n",
       "      <th>pe_ttm</th>\n",
       "      <th>pb</th>\n",
       "      <th>roe_ttm</th>\n",
       "      <th>roa_ttm</th>\n",
       "      <th>return_adj</th>\n",
       "      <th>open</th>\n",
       "      <th>close</th>\n",
       "      <th>high</th>\n",
       "      <th>low</th>\n",
       "      <th>turnover_rate</th>\n",
       "      <th>cumulative_return_20</th>\n",
       "      <th>momentum_20</th>\n",
       "      <th>win_loss</th>\n",
       "    </tr>\n",
       "  </thead>\n",
       "  <tbody>\n",
       "    <tr>\n",
       "      <th>6852</th>\n",
       "      <td>2017-04-19</td>\n",
       "      <td>000503.SZ</td>\n",
       "      <td>2372.1400</td>\n",
       "      <td>21.99280</td>\n",
       "      <td>0.009271</td>\n",
       "      <td>0.008780</td>\n",
       "      <td>0.005817</td>\n",
       "      <td>34.23</td>\n",
       "      <td>34.58</td>\n",
       "      <td>35.08</td>\n",
       "      <td>33.60</td>\n",
       "      <td>0.010340</td>\n",
       "      <td>-0.279063</td>\n",
       "      <td>-0.161464</td>\n",
       "      <td>-1.0</td>\n",
       "    </tr>\n",
       "    <tr>\n",
       "      <th>96644</th>\n",
       "      <td>2017-04-19</td>\n",
       "      <td>600893.SH</td>\n",
       "      <td>75.7789</td>\n",
       "      <td>3.67634</td>\n",
       "      <td>0.048514</td>\n",
       "      <td>0.018563</td>\n",
       "      <td>0.003663</td>\n",
       "      <td>35.35</td>\n",
       "      <td>35.62</td>\n",
       "      <td>35.76</td>\n",
       "      <td>35.00</td>\n",
       "      <td>0.007931</td>\n",
       "      <td>-0.244873</td>\n",
       "      <td>0.041373</td>\n",
       "      <td>-1.0</td>\n",
       "    </tr>\n",
       "    <tr>\n",
       "      <th>13684</th>\n",
       "      <td>2017-04-19</td>\n",
       "      <td>000768.SZ</td>\n",
       "      <td>145.9850</td>\n",
       "      <td>3.75190</td>\n",
       "      <td>0.025701</td>\n",
       "      <td>0.011602</td>\n",
       "      <td>-0.045364</td>\n",
       "      <td>25.13</td>\n",
       "      <td>23.99</td>\n",
       "      <td>25.56</td>\n",
       "      <td>23.60</td>\n",
       "      <td>0.022810</td>\n",
       "      <td>-0.243435</td>\n",
       "      <td>0.071185</td>\n",
       "      <td>-1.0</td>\n",
       "    </tr>\n",
       "    <tr>\n",
       "      <th>102500</th>\n",
       "      <td>2017-04-19</td>\n",
       "      <td>601117.SH</td>\n",
       "      <td>17.4571</td>\n",
       "      <td>1.50007</td>\n",
       "      <td>0.085929</td>\n",
       "      <td>0.029871</td>\n",
       "      <td>-0.013483</td>\n",
       "      <td>8.90</td>\n",
       "      <td>8.78</td>\n",
       "      <td>8.98</td>\n",
       "      <td>8.61</td>\n",
       "      <td>0.008561</td>\n",
       "      <td>-0.238041</td>\n",
       "      <td>0.111111</td>\n",
       "      <td>-1.0</td>\n",
       "    </tr>\n",
       "    <tr>\n",
       "      <th>38572</th>\n",
       "      <td>2017-04-19</td>\n",
       "      <td>002558.SZ</td>\n",
       "      <td>151.6980</td>\n",
       "      <td>17.02910</td>\n",
       "      <td>0.112257</td>\n",
       "      <td>0.100643</td>\n",
       "      <td>0.005160</td>\n",
       "      <td>74.90</td>\n",
       "      <td>74.03</td>\n",
       "      <td>74.90</td>\n",
       "      <td>70.12</td>\n",
       "      <td>0.035327</td>\n",
       "      <td>-0.230042</td>\n",
       "      <td>-0.079260</td>\n",
       "      <td>-1.0</td>\n",
       "    </tr>\n",
       "  </tbody>\n",
       "</table>\n",
       "</div>"
      ],
      "text/plain": [
       "        trade_date stock_code     pe_ttm        pb   roe_ttm   roa_ttm  \\\n",
       "6852    2017-04-19  000503.SZ  2372.1400  21.99280  0.009271  0.008780   \n",
       "96644   2017-04-19  600893.SH    75.7789   3.67634  0.048514  0.018563   \n",
       "13684   2017-04-19  000768.SZ   145.9850   3.75190  0.025701  0.011602   \n",
       "102500  2017-04-19  601117.SH    17.4571   1.50007  0.085929  0.029871   \n",
       "38572   2017-04-19  002558.SZ   151.6980  17.02910  0.112257  0.100643   \n",
       "\n",
       "        return_adj   open  close   high    low  turnover_rate  \\\n",
       "6852      0.005817  34.23  34.58  35.08  33.60       0.010340   \n",
       "96644     0.003663  35.35  35.62  35.76  35.00       0.007931   \n",
       "13684    -0.045364  25.13  23.99  25.56  23.60       0.022810   \n",
       "102500   -0.013483   8.90   8.78   8.98   8.61       0.008561   \n",
       "38572     0.005160  74.90  74.03  74.90  70.12       0.035327   \n",
       "\n",
       "        cumulative_return_20  momentum_20  win_loss  \n",
       "6852               -0.279063    -0.161464      -1.0  \n",
       "96644              -0.244873     0.041373      -1.0  \n",
       "13684              -0.243435     0.071185      -1.0  \n",
       "102500             -0.238041     0.111111      -1.0  \n",
       "38572              -0.230042    -0.079260      -1.0  "
      ]
     },
     "execution_count": 104,
     "metadata": {},
     "output_type": "execute_result"
    }
   ],
   "source": [
    "data_with_label.head()"
   ]
  },
  {
   "cell_type": "code",
   "execution_count": 105,
   "metadata": {},
   "outputs": [],
   "source": [
    "data_input = data_with_momentum\n",
    "\n",
    "y = data_input[\"cumulative_return_20\"].values\n",
    "feature_names = [\"momentum_20\", \"pe_ttm\"]\n",
    "x = data_input[feature_names].values"
   ]
  },
  {
   "cell_type": "code",
   "execution_count": 106,
   "metadata": {},
   "outputs": [],
   "source": [
    "from sklearn.cross_validation import train_test_split\n",
    "x_train, x_test, y_train, y_test = train_test_split(x, y, test_size=0.7, random_state=123)\n",
    "# x_train.shape\n",
    "# x_train.shape[0] / x_test.shape[0]"
   ]
  },
  {
   "cell_type": "code",
   "execution_count": 107,
   "metadata": {},
   "outputs": [
    {
     "data": {
      "text/plain": [
       "LinearRegression(copy_X=True, fit_intercept=True, n_jobs=1, normalize=False)"
      ]
     },
     "execution_count": 107,
     "metadata": {},
     "output_type": "execute_result"
    }
   ],
   "source": [
    "from sklearn.linear_model import LinearRegression\n",
    "\n",
    "lm = LinearRegression()\n",
    "lm.fit(x_train, y_train)"
   ]
  },
  {
   "cell_type": "code",
   "execution_count": 108,
   "metadata": {},
   "outputs": [
    {
     "name": "stdout",
     "output_type": "stream",
     "text": [
      "The R-squared value for the training set is: 0.0009\n"
     ]
    },
    {
     "data": {
      "text/html": [
       "<div>\n",
       "<style scoped>\n",
       "    .dataframe tbody tr th:only-of-type {\n",
       "        vertical-align: middle;\n",
       "    }\n",
       "\n",
       "    .dataframe tbody tr th {\n",
       "        vertical-align: top;\n",
       "    }\n",
       "\n",
       "    .dataframe thead th {\n",
       "        text-align: right;\n",
       "    }\n",
       "</style>\n",
       "<table border=\"1\" class=\"dataframe\">\n",
       "  <thead>\n",
       "    <tr style=\"text-align: right;\">\n",
       "      <th></th>\n",
       "      <th>Feature</th>\n",
       "      <th>Coefficient</th>\n",
       "    </tr>\n",
       "  </thead>\n",
       "  <tbody>\n",
       "    <tr>\n",
       "      <th>0</th>\n",
       "      <td>intercept</td>\n",
       "      <td>0.007793</td>\n",
       "    </tr>\n",
       "    <tr>\n",
       "      <th>1</th>\n",
       "      <td>momentum_20</td>\n",
       "      <td>-0.017445</td>\n",
       "    </tr>\n",
       "    <tr>\n",
       "      <th>2</th>\n",
       "      <td>pe_ttm</td>\n",
       "      <td>0.000001</td>\n",
       "    </tr>\n",
       "  </tbody>\n",
       "</table>\n",
       "</div>"
      ],
      "text/plain": [
       "       Feature  Coefficient\n",
       "0    intercept     0.007793\n",
       "1  momentum_20    -0.017445\n",
       "2       pe_ttm     0.000001"
      ]
     },
     "execution_count": 108,
     "metadata": {},
     "output_type": "execute_result"
    }
   ],
   "source": [
    "from sklearn.metrics import r2_score\n",
    "\n",
    "# print R^2 for the training set\n",
    "print('The R-squared value for the training set is: {:0.4f}'.format(r2_score(y_train, lm.predict(x_train))))\n",
    "\n",
    "# print intercept and coefficients\n",
    "param_df = pd.DataFrame({\"Coefficient\": [lm.intercept_] + list(lm.coef_), \"Feature\": ['intercept'] + list(feature_names)})\n",
    "param_df[['Feature', 'Coefficient']]"
   ]
  },
  {
   "cell_type": "markdown",
   "metadata": {},
   "source": [
    "##### Run linear regression"
   ]
  },
  {
   "cell_type": "code",
   "execution_count": 109,
   "metadata": {},
   "outputs": [],
   "source": [
    "data_input = data_with_label\n",
    "data_with_binary_label = data_input[data_input[\"win_loss\"] != 0]\n",
    "\n",
    "y = data_with_binary_label[\"win_loss\"].values\n",
    "feature_names = [\"momentum_20\", \"pe_ttm\"]\n",
    "x = data_with_binary_label[feature_names].values"
   ]
  },
  {
   "cell_type": "code",
   "execution_count": 110,
   "metadata": {},
   "outputs": [],
   "source": [
    "x_train, x_test, y_train, y_test = train_test_split(x, y, test_size=0.7, random_state=123)"
   ]
  },
  {
   "cell_type": "code",
   "execution_count": 111,
   "metadata": {},
   "outputs": [
    {
     "data": {
      "text/plain": [
       "LogisticRegression(C=1.0, class_weight=None, dual=False, fit_intercept=True,\n",
       "          intercept_scaling=1, max_iter=100, multi_class='ovr', n_jobs=1,\n",
       "          penalty='l2', random_state=None, solver='liblinear', tol=0.0001,\n",
       "          verbose=0, warm_start=False)"
      ]
     },
     "execution_count": 111,
     "metadata": {},
     "output_type": "execute_result"
    }
   ],
   "source": [
    "from sklearn.linear_model.logistic import LogisticRegression\n",
    "classifier = LogisticRegression()\n",
    "classifier.fit(x_train, y_train)"
   ]
  },
  {
   "cell_type": "code",
   "execution_count": 112,
   "metadata": {},
   "outputs": [],
   "source": [
    "predictions=classifier.predict_proba(x_test)"
   ]
  },
  {
   "cell_type": "code",
   "execution_count": 113,
   "metadata": {},
   "outputs": [
    {
     "data": {
      "text/plain": [
       "0.5152999323946328"
      ]
     },
     "execution_count": 113,
     "metadata": {},
     "output_type": "execute_result"
    }
   ],
   "source": [
    "from sklearn.metrics import roc_curve,auc\n",
    "false_positive_rate, recall, thresholds = roc_curve(y_test, predictions[:, 1])\n",
    "roc_auc=auc(false_positive_rate,recall)\n",
    "roc_auc"
   ]
  },
  {
   "cell_type": "code",
   "execution_count": null,
   "metadata": {},
   "outputs": [],
   "source": []
  },
  {
   "cell_type": "code",
   "execution_count": null,
   "metadata": {},
   "outputs": [],
   "source": []
  }
 ],
 "metadata": {
  "kernelspec": {
   "display_name": "Python 3",
   "language": "python",
   "name": "python3"
  },
  "language_info": {
   "codemirror_mode": {
    "name": "ipython",
    "version": 3
   },
   "file_extension": ".py",
   "mimetype": "text/x-python",
   "name": "python",
   "nbconvert_exporter": "python",
   "pygments_lexer": "ipython3",
   "version": "3.5.2"
  }
 },
 "nbformat": 4,
 "nbformat_minor": 2
}
